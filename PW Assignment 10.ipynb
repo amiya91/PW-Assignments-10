{
 "cells": [
  {
   "cell_type": "raw",
   "id": "ff0c8763-4ebb-4571-85a4-4badcbd5d715",
   "metadata": {},
   "source": [
    "1) What is multithreading in python? why is it used? Name the module used to handle threads in python."
   ]
  },
  {
   "cell_type": "raw",
   "id": "09ac84a4-f2b0-496d-b96b-dd32cb08799c",
   "metadata": {},
   "source": [
    "Multithreading in Python refers to the ability of a program to execute multiple threads (also known as lightweight processes) concurrently. Each thread represents a separate flow of execution within a program. Think of it as multiple workers performing tasks simultaneously, sharing the same resources but executing different parts of the code.\n",
    "\n",
    "In simpler terms, imagine you have a long list of tasks to complete. Instead of doing them one by one, you can divide the tasks among several people who work together at the same time. This way, the overall work gets completed faster.\n",
    "\n",
    "Multithreading is used in Python to improve the performance and responsiveness of programs that involve tasks that can run concurrently. It is particularly useful when there are parts of the code that are time-consuming or involve waiting for external resources (e.g., network requests, file operations) that could be executed simultaneously.\n",
    "\n",
    "By using multiple threads, your program can take advantage of the available processor cores and execute different tasks concurrently. This can lead to improved efficiency, reduced waiting time, and better utilization of system resources.\n",
    "\n",
    "The module used to handle threads in Python is called `threading`. It provides a way to create and manage threads within a Python program. With the `threading` module, you can create and start new threads, synchronize thread execution, communicate between threads, and handle thread-specific operations.\n",
    "\n",
    "Using the `threading` module, you can leverage multithreading capabilities in Python to make your programs more efficient, responsive, and capable of handling multiple tasks simultaneously."
   ]
  },
  {
   "cell_type": "raw",
   "id": "c34b3b1d-16f7-4816-bbed-91bdb13cbe68",
   "metadata": {},
   "source": [
    "2) Why threading module used? Write the use of the following functions\n",
    "activeCount()\n",
    "currentThread()\n",
    "enumerate()"
   ]
  },
  {
   "cell_type": "raw",
   "id": "24ffff5b-4c91-4e9d-8877-87d831c6afe7",
   "metadata": {},
   "source": [
    ">>>The threading module in Python is used to help us work with multiple threads in a program. A thread is like a separate flow of execution within a program. It allows us to perform multiple tasks simultaneously, making our programs more efficient and responsive.\n",
    "\n",
    "Now, let's understand the use of some functions in the threading module:\n",
    "\n",
    ">>activeCount(): This function is used to find out the number of active threads running in a program at a given moment. It returns the count of threads that are currently executing. It can be useful to keep track of how many threads are running to monitor the concurrency in your program.\n",
    "\n",
    ">>currentThread(): This function helps us identify the thread in which the function is being called. It returns an object that represents the current thread. We can use this object to access various properties and methods associated with the current thread. It can be helpful when we want to perform certain actions or checks based on the current thread's identity.\n",
    "\n",
    ">>enumerate(): This function returns a list of all the active Thread objects currently running in a program. It allows us to iterate over and access information about each thread. It can be useful when we need to examine or manipulate multiple threads simultaneously, such as checking their status or terminating them."
   ]
  },
  {
   "cell_type": "raw",
   "id": "e0fd8212-347c-4944-9abe-090f22c0681e",
   "metadata": {},
   "source": [
    "3) Explain the following functions\n",
    "run()\n",
    "start()\n",
    "join()\n",
    "isAlive()"
   ]
  },
  {
   "cell_type": "raw",
   "id": "85ab1a1a-edb2-4c44-9260-fd463adcab9b",
   "metadata": {},
   "source": [
    ">>>run(): In the context of multi-threading or multi-processing, the `run()` function is a method that defines the code to be executed when a thread or process starts. It represents the main functionality or task of the thread or process. Think of it as the instructions or steps that the thread or process should follow to accomplish its job.\n",
    "\n",
    ">>>start(): When you have created a thread or process, the `start()` function is called to begin its execution. It initiates the execution of the code defined in the `run()` function. It's like pressing the start button on a machine or engine, which sets the thread or process in motion, allowing it to perform its designated task.\n",
    "\n",
    ">>>join(): The `join()` function is used to ensure that the main program waits for a thread or process to complete its execution before moving on to the next steps. It's like waiting for a person to finish their work before you can proceed with the rest of your tasks. When you call `join()` on a thread or process, the main program will pause until that thread or process finishes its job.\n",
    "\n",
    ">>>isAlive(): The `isAlive()` function is a method that checks whether a thread or process is currently active and running. It returns a boolean value indicating whether the thread or process is still executing its code or has already completed its task. It's like asking if someone is still working on something or if they have finished their job.|"
   ]
  },
  {
   "cell_type": "raw",
   "id": "cc9a1331-633d-445b-b770-76b46fca557d",
   "metadata": {},
   "source": [
    "4) Write a python program to create two threads. Thread one must print the list of squares and thread two must print the list of cubes."
   ]
  },
  {
   "cell_type": "code",
   "execution_count": 1,
   "id": "6519d10a-482c-442f-907e-25da9b0db48b",
   "metadata": {},
   "outputs": [
    {
     "name": "stdout",
     "output_type": "stream",
     "text": [
      "Square of 1: 1\n",
      "Square of 2: 4\n",
      "Square of 3: 9\n",
      "Square of 4: 16\n",
      "Square of 5: 25\n",
      "Cube of 6: 216\n",
      "Cube of 7: 343\n",
      "Cube of 8: 512\n",
      "Cube of 9: 729\n",
      "Cube of 10: 1000\n",
      "Program completed.\n"
     ]
    }
   ],
   "source": [
    "import threading\n",
    "\n",
    "def print_squares(numbers):\n",
    "    for num in numbers:\n",
    "        square = num ** 2\n",
    "        print(f\"Square of {num}: {square}\")\n",
    "\n",
    "def print_cubes(numbers):\n",
    "    for num in numbers:\n",
    "        cube = num ** 3\n",
    "        print(f\"Cube of {num}: {cube}\")\n",
    "\n",
    "# Create the lists of numbers\n",
    "alice_numbers = [1, 2, 3, 4, 5]\n",
    "bob_numbers = [6, 7, 8, 9, 10]\n",
    "\n",
    "# Create the threads\n",
    "alice_thread = threading.Thread(target=print_squares, args=(alice_numbers,))\n",
    "bob_thread = threading.Thread(target=print_cubes, args=(bob_numbers,))\n",
    "\n",
    "# Start the threads\n",
    "alice_thread.start()\n",
    "bob_thread.start()\n",
    "\n",
    "# Wait for the threads to finish\n",
    "alice_thread.join()\n",
    "bob_thread.join()\n",
    "\n",
    "print(\"Program completed.\")"
   ]
  },
  {
   "cell_type": "raw",
   "id": "e3c56fec-5ea9-41b1-8282-858b18dc140a",
   "metadata": {},
   "source": [
    "5) State advantages and disadvantages of multithreading."
   ]
  },
  {
   "cell_type": "raw",
   "id": "bff18044-f305-4020-8969-41dc25616842",
   "metadata": {},
   "source": [
    ">>>Advantages of Multithreading:\n",
    "\n",
    ">>Increased Efficiency: Imagine you have a big task to complete, and you are the only person working on it. It might take you a long time to finish it. But if you have a team of people working together, each person handling a different part of the task simultaneously, you can complete the task much faster. Similarly, multithreading allows multiple threads (like different team members) to work together on different parts of a program simultaneously. This can lead to increased efficiency and faster execution of tasks.\n",
    "\n",
    ">>Responsiveness and Improved User Experience: When you use a computer program, you want it to respond quickly to your actions. Multithreading can help achieve this responsiveness. For example, imagine you are using a music player that has a separate thread responsible for playing music and another thread responsible for responding to your commands (like changing the song or adjusting the volume). With multithreading, the music can keep playing smoothly in the background while you interact with the player without any noticeable delay or interruption.\n",
    "\n",
    ">>>Disadvantages of Multithreading:\n",
    "\n",
    ">>Complexity and Difficult Debugging: Multithreading introduces additional complexity to the program. Different threads need to coordinate and communicate with each other properly to avoid conflicts or data inconsistencies. Debugging multithreaded programs can be more challenging because issues like race conditions (where threads interfere with each other's work) or deadlocks (where threads get stuck waiting for each other indefinitely) can occur. Identifying and fixing these issues can be time-consuming and require advanced techniques.\n",
    "\n",
    ">>Resource Sharing and Synchronization: Multithreading requires proper management of shared resources, such as memory or files, to ensure that multiple threads don't access them simultaneously and create conflicts. Synchronizing the access to shared resources adds overhead and can affect performance. It requires careful design and implementation to ensure data integrity and avoid potential issues like data corruption or inconsistent results."
   ]
  },
  {
   "cell_type": "code",
   "execution_count": null,
   "id": "cc6b3aeb-3f4f-4040-8614-21d582a03aeb",
   "metadata": {},
   "outputs": [],
   "source": []
  }
 ],
 "metadata": {
  "kernelspec": {
   "display_name": "Python 3 (ipykernel)",
   "language": "python",
   "name": "python3"
  },
  "language_info": {
   "codemirror_mode": {
    "name": "ipython",
    "version": 3
   },
   "file_extension": ".py",
   "mimetype": "text/x-python",
   "name": "python",
   "nbconvert_exporter": "python",
   "pygments_lexer": "ipython3",
   "version": "3.10.8"
  }
 },
 "nbformat": 4,
 "nbformat_minor": 5
}
